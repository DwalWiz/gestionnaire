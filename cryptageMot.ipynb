{
 "cells": [
  {
   "cell_type": "code",
   "execution_count": 30,
   "metadata": {},
   "outputs": [
    {
     "name": "stdout",
     "output_type": "stream",
     "text": [
      " Votre mot était :  BONJOUR \n",
      " Votre mot crypté est :  XROSMUM \n",
      " Votre clé est :  wdbjxau\n"
     ]
    }
   ],
   "source": [
    "import random\n",
    "\n",
    "def generateKey(longueur):  #Génère une clé aléatoire pour encoder le message.\n",
    "    key=''\n",
    "    for _ in range(longueur):\n",
    "        number_key=random.randrange(97,122)\n",
    "        key=key + chr(number_key)\n",
    "\n",
    "    return(key)\n",
    "\n",
    "def encodeLettre (lettre,codage):          #codagelettre\n",
    "    if 122>(ord(lettre)+codage) > 97: #122 est le z dans la table ASCII\n",
    "        lettre=chr(ord(lettre)+codage)\n",
    "    else:\n",
    "        lettre=chr(ord(lettre)+codage-25)\n",
    "         \n",
    "\n",
    "    return(lettre)\n",
    "\n",
    "def crypteMot(mot, is_min=False, do_print=False):\n",
    "    encode_key=generateKey(len(mot))\n",
    "    mot=mot.lower()\n",
    "    mot_fini='' \n",
    "\n",
    "    for i in range(len(mot)) :\n",
    "        codageAlpha=ord(encode_key[i])-97\n",
    "        mot_fini=mot_fini + encodeLettre(mot[i],codageAlpha)\n",
    "\n",
    "    if is_min==True:\n",
    "        mot=mot.lower()\n",
    "        mot_fini=mot_fini.lower()\n",
    "    else:\n",
    "        mot=mot.upper()\n",
    "        mot_fini=mot_fini.upper()\n",
    "\n",
    "    if do_print==True:\n",
    "        print(\" Votre mot était : \",mot, \"\\n\" ,\"Votre mot crypté est : \",mot_fini,\"\\n\",\"Votre clé est : \",encode_key)\n",
    "    else:\n",
    "        return(mot,mot_fini, encode_key)\n",
    "        \n",
    "crypteMot(\"Bonjour\",False, True)\n"
   ]
  },
  {
   "cell_type": "code",
   "execution_count": null,
   "metadata": {},
   "outputs": [],
   "source": []
  },
  {
   "cell_type": "code",
   "execution_count": null,
   "metadata": {},
   "outputs": [],
   "source": []
  }
 ],
 "metadata": {
  "kernelspec": {
   "display_name": "base",
   "language": "python",
   "name": "python3"
  },
  "language_info": {
   "codemirror_mode": {
    "name": "ipython",
    "version": 3
   },
   "file_extension": ".py",
   "mimetype": "text/x-python",
   "name": "python",
   "nbconvert_exporter": "python",
   "pygments_lexer": "ipython3",
   "version": "3.11.5"
  }
 },
 "nbformat": 4,
 "nbformat_minor": 2
}
